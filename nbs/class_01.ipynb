{
 "cells": [
  {
   "cell_type": "markdown",
   "metadata": {},
   "source": [
    "### Class 1\n",
    "This week's classroom instruction will focus on three things:\n",
    "- **Part 1**: Getting the integration between UCloud and GitHub to work\n",
    "- **Part 2**: Learning how to setup a virtual environment for Python\n",
    "- **Part 3**: A few warm-up exercises on string manipulation"
   ]
  },
  {
   "cell_type": "markdown",
   "metadata": {},
   "source": [
    "#### Part 1: Integration between UCloud and GitHub\n",
    "First, follow the instructions provided in `ucloud.md`.\n",
    "\n",
    "Once you have done that, let's look at how to use the repository with course materials. First, log in to https://github.com and go to the repository's link: https://github.com/rbroc/NLP-AU-23. \n",
    "\n",
    "##### Forking the repository\n",
    "Click on `Fork` (top-right of the page). This creates a copy of the repository which is partly independent of the original repository. You will be submitting changes to *this* repository. \n",
    "The original repository will be iteratively updated with new materials or exercises. You can sync the two by setting them both as *remotes* in your local instance of the repository. \n",
    "\n",
    "##### Cloning the repository and setting up remotes\n",
    "With the VS Code app on UCloud open, and a Terminal open, you can clone your repository by `cd`-ing into your private folder, and running: \n",
    "```\n",
    "git clone https://github.com/your_username/NLP-AU-23\n",
    "```\n",
    "\n",
    "You can visualize your remotes by typing: `git remote -v`.\n",
    "You should add my repository as a remote, by running:\n",
    "```\n",
    "git remote add [robertas_remote_name] https://github.com/rbroc/NLP-AU-23.git\n",
    "```\n",
    "`robertas_remote_name` can be anyting, e.g., `roberta`, or `original_repo`...\n",
    "\n",
    "##### Our workflow\n",
    "As my repository gets updated, you can pull it into yours by running:\n",
    "```\n",
    "git pull [robertas_remote_name] https://github.com/rbroc/NLP-AU-23.git\n",
    "```\n",
    "\n",
    "You can push to your remote by typing:\n",
    "```\n",
    "git push origin [branch_name]\n",
    "```\n",
    "\n",
    "Once you have done this, our workflow will be the following:\n",
    "- You run the github setup script (and log in with your token if needed)\n",
    "- You go to your local repo\n",
    "- You pull my repo\n",
    "- You make changes and push to your fork"
   ]
  },
  {
   "cell_type": "markdown",
   "metadata": {},
   "source": [
    "#### Part 2: Virtual environments\n",
    "A good way to manage dependencies for specific projects and avoid conflicts is to create virtual environments (which contain bundles of libraries that you can \"activate\" and \"deactivate\" at will, without those interfering with your global environment). I tend to keep my virtual environments in the same place, e.g., my private folder on UCloud.\n",
    "\n",
    "Let's create a virtual enviroment.\n",
    "1. Navigate to your private folder (`path_to_folder`)\n",
    "2. Create a virtual environment folder, e.g., by running `mkdir venvs`\n",
    "3. Create a new virtual environment (`nlp-e23`), by running:\n",
    "`python -m venv path_to_folder/venvs/nlp-e23`\n",
    "4. You can activate it by running: `source path_to_folder/nlp-e23/bin/activate`\n",
    "5. To deactivate it, you can simply run: `deactivate`\n",
    "\n",
    "If you virtual environment is active, scripts and notebooks will use it automatically."
   ]
  },
  {
   "cell_type": "code",
   "execution_count": 3,
   "metadata": {},
   "outputs": [],
   "source": [
    "# TODO: add how to load stuff from a virtual environment"
   ]
  },
  {
   "cell_type": "markdown",
   "metadata": {},
   "source": [
    "#### Part 3: Warm-up exercises"
   ]
  },
  {
   "cell_type": "markdown",
   "metadata": {},
   "source": [
    "Write a function that takes two strings as input, and returns a concatenated string"
   ]
  },
  {
   "cell_type": "code",
   "execution_count": 6,
   "metadata": {},
   "outputs": [],
   "source": [
    "def concat_two_strings(): # inputs are two strings\n",
    "    ''' Add code '''\n",
    "    pass"
   ]
  },
  {
   "cell_type": "markdown",
   "metadata": {},
   "source": [
    "Now write a function that can take any two string, and concatenate all of them. Hint: you can use a different data structure to pass the strings, or use an asterisk to pass any number of arguments"
   ]
  },
  {
   "cell_type": "code",
   "execution_count": null,
   "metadata": {},
   "outputs": [],
   "source": [
    "def concat_any_string(): # input is any number of strings (what is a good way to make this possible?)\n",
    "    ''' Add code '''\n",
    "    pass"
   ]
  },
  {
   "cell_type": "markdown",
   "metadata": {},
   "source": [
    "Write a function that takes two inputs: *l* (a single character) and *s* (a string), and returns how many times l is contained in s."
   ]
  },
  {
   "cell_type": "code",
   "execution_count": null,
   "metadata": {},
   "outputs": [],
   "source": [
    "def letter_count(l, s):\n",
    "    ''' Add code '''\n",
    "    pass"
   ]
  },
  {
   "cell_type": "markdown",
   "metadata": {},
   "source": [
    "Bonus exercise: can you make a function that generalizes to *l* being any sequence of characters (e.g., counting how many times the substring `ab` occurs). Hint: you can do it in base python, or use functions (e.g., `match`) from the regex package `re`."
   ]
  },
  {
   "cell_type": "markdown",
   "metadata": {},
   "source": [
    "Now edit the previous function to be able to return counts for multiple strings (make *l* an iterable, e.g., a list).\n",
    "The output should be a dictionary with keys *k* and values *v*, such that k are all elements of *l*, and *v* is the respective count. "
   ]
  },
  {
   "cell_type": "code",
   "execution_count": 7,
   "metadata": {},
   "outputs": [],
   "source": [
    "def generalized_counter(l, s):\n",
    "    ''' Add code '''\n",
    "    pass"
   ]
  },
  {
   "cell_type": "markdown",
   "metadata": {},
   "source": [
    "Loading a text file: the `data` folder contains a file called `war_and_peace.txt`.\n",
    "Use the functions `open` and `read` to read the file as a single string, and split it into a list of words, based on the presence of whitespaces.\n",
    "Once you have done this, try to use the function `readlines` instead: what does it do?"
   ]
  },
  {
   "cell_type": "code",
   "execution_count": 9,
   "metadata": {},
   "outputs": [],
   "source": [
    "# read war_and_peace.txt as a string or using readlines"
   ]
  },
  {
   "cell_type": "markdown",
   "metadata": {},
   "source": [
    "Bonus exercise: after reading the file with `read`, remove all alphanumeric characters. Hint: you can use functions like `re.sub` to do so (here is a guide to regex patterns: https://docs.python.org/3/howto/regex.html)"
   ]
  },
  {
   "cell_type": "code",
   "execution_count": 5,
   "metadata": {},
   "outputs": [],
   "source": [
    "# TODO: Make separate branch containing solutions"
   ]
  },
  {
   "cell_type": "markdown",
   "metadata": {},
   "source": [
    "#### "
   ]
  }
 ],
 "metadata": {
  "kernelspec": {
   "display_name": "Python 3",
   "language": "python",
   "name": "python3"
  },
  "language_info": {
   "codemirror_mode": {
    "name": "ipython",
    "version": 3
   },
   "file_extension": ".py",
   "mimetype": "text/x-python",
   "name": "python",
   "nbconvert_exporter": "python",
   "pygments_lexer": "ipython3",
   "version": "3.11.2"
  },
  "orig_nbformat": 4
 },
 "nbformat": 4,
 "nbformat_minor": 2
}
