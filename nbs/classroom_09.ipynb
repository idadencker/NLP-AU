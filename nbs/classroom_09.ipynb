{
  "cells": [
    {
      "cell_type": "markdown",
      "metadata": {
        "id": "view-in-github",
        "colab_type": "text"
      },
      "source": [
        "<a href=\"https://colab.research.google.com/github/rbroc/NLP-AU-23/blob/main/nbs/classroom_9.ipynb\" target=\"_parent\"><img src=\"https://colab.research.google.com/assets/colab-badge.svg\" alt=\"Open In Colab\"/></a>"
      ]
    },
    {
      "cell_type": "markdown",
      "source": [
        "# Class 9 - Text Generation with Petals\n",
        "\n",
        "Last week, we looked into NLG (inference-only) with HuggingFace models. We experimented with smaller models, which can be run on CPU (at least at inference). Some of them were doing a reasonable jobs in some tasks, but, overall, we saw a lot of room for improvement.\n",
        "\n",
        "This week, we continue working on NLG, experimenting with Petals, a new library for inference and fine-tuning large language models that allows you to use them without the need to have high-end GPUs. While Petals is not a feasible option for extensive tuning of large language models, it is great for inference and fine-tuning on limited sets of examples -- and it provides us access to models we would otherwise not be able to use.\n",
        "\n",
        " The idea behind Petals is that you can join compute resources with other people over the Internet and run large language models such as Llama 2 (70B), Stable Beluga 2, Llama-65B, Guanaco-65B, or BLOOM-176B right from your desktop computer or Google Colab.\n",
        "\n",
        "To begin, let's install [the Petals package](https://github.com/bigscience-workshop/petals) and a few other libraries we will need for this notebook:"
      ],
      "metadata": {
        "id": "VsXHWJLuowcn"
      }
    },
    {
      "cell_type": "code",
      "execution_count": null,
      "metadata": {
        "id": "pBC52TF3LVY1"
      },
      "outputs": [],
      "source": [
        "%pip install py7zr\n",
        "%pip install datasets --no-deps\n",
        "%pip install git+https://github.com/bigscience-workshop/petals\n",
        "# %pip install peft --no-deps"
      ]
    },
    {
      "cell_type": "markdown",
      "source": [
        "Let's import the packages and functions we will need throughout the notebook."
      ],
      "metadata": {
        "id": "FyElVAQ0rda2"
      }
    },
    {
      "cell_type": "code",
      "source": [
        "import torch\n",
        "from transformers import AutoTokenizer, AutoModelForSeq2SeqLM, Seq2SeqTrainingArguments, Seq2SeqTrainer\n",
        "from petals import AutoDistributedModelForCausalLM"
      ],
      "metadata": {
        "id": "9ZCEUsFurcv4"
      },
      "execution_count": null,
      "outputs": []
    },
    {
      "cell_type": "markdown",
      "source": [
        "## Step 1. Loading the model for inference\n",
        "\n",
        "Let's start with the easiest task &mdash; creating a distributed model and using it for generating text. The syntax of Petals is exactly the same as HuggingFace 🤗 [Transformers](https://github.com/huggingface/transformers) library, so you can re-use all the knowledge you have acquired in previous classes.\n",
        "\n",
        "Practically, the way this works is that you will download a small part of the model weights and rely on other computers in the network to run the rest of the model.\n",
        "\n",
        "We start with [Stable Beluga 2 (70B)](https://huggingface.co/stabilityai/StableBeluga2), one of the best fine-tuned variants of Llama 2.\n",
        "\n",
        "**Task**\n",
        "- Take some time to go through the documentation for Stable Beluga: how is the model trained, i.e., which task_datasets is it trained on? Is this data available? If so, can you find them and browse them in the HuggingFace hub? If not, why might this be problematic?\n",
        "- How does the training for StableBeluga compare to what we have discussed in our lectures? What does it have in common (in terms of approach to training) which some of the models we have discussed (GPT-3; T5; FlanT5; InstructGPT)?"
      ],
      "metadata": {
        "id": "yEbot-oEXdpw"
      }
    },
    {
      "cell_type": "code",
      "execution_count": null,
      "metadata": {
        "id": "2uuX1IMLLotQ"
      },
      "outputs": [],
      "source": [
        "model_name = \"petals-team/StableBeluga2\" # You could also other models supported from 🤗 Model Hub\n",
        "tokenizer = AutoTokenizer.from_pretrained(model_name, use_fast=False, add_bos_token=False)\n",
        "model = AutoDistributedModelForCausalLM.from_pretrained(model_name)\n",
        "model = model.cuda()"
      ]
    },
    {
      "cell_type": "markdown",
      "source": [
        "### Let's generate!\n",
        "\n",
        "Let's try to generate something by calling __`model.generate()`__ method, similar to what we have done last week\n",
        "\n",
        "As we saw last week, `model.generate()` method runs **greedy** generation by default. But there are several alternative decoding methods. You can **top-p/top-k sampling** or **beam search** to make your generation more creative, less predictable, less repetitive, etc -- just remember to set proper arguments for the 🤗 Transformers [.generate()](https://huggingface.co/blog/how-to-generate) method.\n",
        "\n",
        "**Task**\n",
        "- Try to compare this to examples from last week's notebook: does StableBeluga (on any other model, if you are experimenting with something else) do better than models we tried out last week? Why may it be so?\n",
        "- Prompt StableBeluga to follow different instructions: how does it perform?"
      ],
      "metadata": {
        "id": "zhyUxv13sfKO"
      }
    },
    {
      "cell_type": "code",
      "source": [
        "inputs = tokenizer('This morning, I woke up and', return_tensors=\"pt\")[\"input_ids\"].cuda()\n",
        "outputs = model.generate(inputs, max_new_tokens=50)\n",
        "print(tokenizer.decode(outputs[0]))"
      ],
      "metadata": {
        "id": "1s1IrE1H8wwr"
      },
      "execution_count": null,
      "outputs": []
    },
    {
      "cell_type": "markdown",
      "source": [
        "Let's try to focus on a specific task, and use StableBeluga for text summarization. To get started, we load a dialogue summarization dataset from HuggingFace datasets, and we try to get a sense for how well StableBeluga summarizes some of the examples."
      ],
      "metadata": {
        "id": "9EDpLVFp_Fit"
      }
    },
    {
      "cell_type": "code",
      "source": [
        "from datasets import load_dataset\n",
        "huggingface_dataset_name = \"knkarthick/dialogsum\"\n",
        "dataset = load_dataset(huggingface_dataset_name)"
      ],
      "metadata": {
        "id": "h2JSGb2l_NLw"
      },
      "execution_count": null,
      "outputs": []
    },
    {
      "cell_type": "markdown",
      "source": [
        "Let's start by visualizing an example from the dataset."
      ],
      "metadata": {
        "id": "KY3GBygsCa8w"
      }
    },
    {
      "cell_type": "code",
      "source": [
        "index = 23\n",
        "\n",
        "print('Input:')\n",
        "print(dataset['test'][index]['dialogue'])\n",
        "print('Human summary:')\n",
        "print(dataset['test'][index]['summary'])"
      ],
      "metadata": {
        "id": "dqo7KoSuBeAQ"
      },
      "execution_count": null,
      "outputs": []
    },
    {
      "cell_type": "markdown",
      "source": [
        "Ok, how does StableBeluga deal with this task? Let's see how well the model does with some basic instructions."
      ],
      "metadata": {
        "id": "1ETDgIq6Cen_"
      }
    },
    {
      "cell_type": "code",
      "source": [
        "def _make_input(dialogue):\n",
        "  out = f\"\"\" Dialogue: \"{dialogue}\". What was going on?\"\"\"\n",
        "  return out"
      ],
      "metadata": {
        "id": "QAz9E42gD6im"
      },
      "execution_count": null,
      "outputs": []
    },
    {
      "cell_type": "code",
      "source": [
        "inputs[\"input_ids\"][0].shape[0]"
      ],
      "metadata": {
        "id": "qCGpTmXaGzXC"
      },
      "execution_count": null,
      "outputs": []
    },
    {
      "cell_type": "code",
      "source": [
        "for i, index in enumerate([22]):\n",
        "    dialogue = dataset['test'][index]['dialogue']\n",
        "    summary = dataset['test'][index]['summary']\n",
        "\n",
        "    inputs = tokenizer(_make_input(dialogue), return_tensors='pt')\n",
        "    output = tokenizer.decode(\n",
        "        model.generate(\n",
        "            inputs[\"input_ids\"].cuda(),\n",
        "            max_new_tokens=50,\n",
        "        )[0][inputs[\"input_ids\"][0].shape[0]:],\n",
        "        skip_special_tokens=True\n",
        "    )\n",
        "\n",
        "    print(f'Input:\\n{dialogue}')\n",
        "    print(f'Human Summary:\\n{summary}')\n",
        "    print(f'Model Summary:\\n{output}\\n')"
      ],
      "metadata": {
        "id": "xMOKDPTbChqS"
      },
      "execution_count": null,
      "outputs": []
    },
    {
      "cell_type": "markdown",
      "source": [
        "Task:\n",
        "- How would you judge the overall quality of the summaries?\n",
        "- There is a suggested prompting template for StableBeluga: https://huggingface.co/petals-team/StableBeluga2. Experiment with prompting and see double-check if model behavior in this task is affected by changing the instructions."
      ],
      "metadata": {
        "id": "F3d627fpIZ-4"
      }
    },
    {
      "cell_type": "markdown",
      "source": [
        "### Step 2: One- and few-shot generation"
      ],
      "metadata": {
        "id": "_0Jzw_U4KFPR"
      }
    },
    {
      "cell_type": "markdown",
      "source": [
        "The reason why StableBeluga is performing this well is arguably a mix of good training protocols *and* size. Let's see if we can get away with using a smaller model with the same result.\n",
        "In our lecture, we mentioned FlanT5. Let's load a small FlanT5 checkpoint and see how well this model performs.\n",
        "\n",
        "Note that Petals does not currently support T5 models. From now on, we will therefore work with `Transformers`."
      ],
      "metadata": {
        "id": "3nby2AcnGwaO"
      }
    },
    {
      "cell_type": "code",
      "source": [
        "model_name_flan = \"google/flan-t5-small\"\n",
        "tokenizer_flan = AutoTokenizer.from_pretrained(model_name_flan, use_fast=False)\n",
        "model_flan = AutoModelForSeq2SeqLM.from_pretrained(model_name_flan) # , torch_dtype=torch.bfloat16\n",
        "model_flan = model_flan.cuda() # putting the model on our GPU"
      ],
      "metadata": {
        "id": "IZ91FG1TH4wl"
      },
      "execution_count": null,
      "outputs": []
    },
    {
      "cell_type": "markdown",
      "source": [
        "As we did with StableBeluga, let's define a function that adds instructions to the input. Note that the template we are using is the suggested FlanT5 template: https://github.com/google-research/FLAN/blob/main/flan/v2/templates.py. You can experiment with different prompts / instructions, to see how that affects the model."
      ],
      "metadata": {
        "id": "xi3HQz5bKqvw"
      }
    },
    {
      "cell_type": "code",
      "source": [
        "def _make_input_flan(dialogue):\n",
        "  prompt = f\"\"\"\n",
        "      Dialogue:\n",
        "\n",
        "      {dialogue}\n",
        "\n",
        "      What was going on in the conversation?\n",
        "\n",
        "      \"\"\"\n",
        "  return prompt"
      ],
      "metadata": {
        "id": "o68UuBxFJC-2"
      },
      "execution_count": null,
      "outputs": []
    },
    {
      "cell_type": "code",
      "source": [
        "for i, index in enumerate([20]):\n",
        "    dialogue = dataset['test'][index]['dialogue']\n",
        "    summary = dataset['test'][index]['summary']\n",
        "\n",
        "    inputs = tokenizer_flan(_make_input_flan(dialogue), return_tensors='pt')\n",
        "    output = tokenizer_flan.decode(\n",
        "        model_flan.generate(\n",
        "            inputs[\"input_ids\"].cuda(),\n",
        "            max_new_tokens=50,\n",
        "        )[0],\n",
        "        skip_special_tokens=True\n",
        "    )\n",
        "\n",
        "    print(f'Input:\\n{dialogue}')\n",
        "    print(f'Human Summary:\\n{summary}')\n",
        "    print(f'Model Summary:\\n{output}\\n')"
      ],
      "metadata": {
        "id": "1_gM3c3cH4y3"
      },
      "execution_count": null,
      "outputs": []
    },
    {
      "cell_type": "markdown",
      "source": [
        "How is our model doing? :) Meh...\n",
        "\n",
        "Let's think of a couple of ways to improve it. First, the easiest and most lightweight one: in-context learning: does our model do better if we pass it one or a few examples of what it is supposed to do?\n",
        "\n",
        "**Task**\n",
        "- Run the same example as before through FlanT5, this time performing one-shot or few-shot generation\n",
        "- Are there any performance differences from the zero-shot case?\n",
        "- **Hint**: all you need to do, is to prepend a few examples of prompt/completion pairs to your input."
      ],
      "metadata": {
        "id": "BNURtH-rLGkg"
      }
    },
    {
      "cell_type": "code",
      "source": [
        "def _make_one_shot_example():\n",
        "  ### Add your own code\n",
        "  pass"
      ],
      "metadata": {
        "id": "M2RnRdAbH42j"
      },
      "execution_count": null,
      "outputs": []
    },
    {
      "cell_type": "code",
      "source": [
        "# TODO: make inference"
      ],
      "metadata": {
        "id": "As3lZvvQH0MY"
      },
      "execution_count": null,
      "outputs": []
    },
    {
      "cell_type": "markdown",
      "source": [
        "**Bonus task**\n",
        "- Try loading another dataset: `samsum` (https://huggingface.co/datasets/samsum). Do you notice any performance differences? If so, do you have a hypothesis about why this is happening? What does it say about generalization and boundary conditions for fine-tuning of LLMs?"
      ],
      "metadata": {
        "id": "rUWstFmgZRQY"
      }
    },
    {
      "cell_type": "markdown",
      "source": [
        "## Step 3. Fine-tuning a dialogue summarization model\n",
        "While in-context learning may help, fine-tuning might be another way to achieve the performance we are aiming to. Let's dive into that. First, let's try to get a feel for how big the model we are training is. the following function goes through the model architecture, and checks the number of parameters."
      ],
      "metadata": {
        "id": "fZlzYVn0ApyF"
      }
    },
    {
      "cell_type": "code",
      "source": [
        "def print_number_of_trainable_model_parameters(model):\n",
        "    trainable_model_params = 0\n",
        "    all_model_params = 0\n",
        "    for _, param in model.named_parameters():\n",
        "        all_model_params += param.numel()\n",
        "        if param.requires_grad:\n",
        "            trainable_model_params += param.numel()\n",
        "    return f\"trainable model parameters: {trainable_model_params}\\nall model parameters: {all_model_params}\\npercentage of trainable model parameters: {100 * trainable_model_params / all_model_params:.2f}%\"\n",
        "\n",
        "print(print_number_of_trainable_model_parameters(model_flan))"
      ],
      "metadata": {
        "id": "-c8FVnMPMrdR"
      },
      "execution_count": null,
      "outputs": []
    },
    {
      "cell_type": "markdown",
      "source": [
        "Ok, now we know what we are dealing with. Next step is getting the data in shape for training. The function we define below is simply defining how each example in our dataset should be preprocessed. Then, the last two line apply this function to all examples."
      ],
      "metadata": {
        "id": "2ir8BY46NTZC"
      }
    },
    {
      "cell_type": "code",
      "source": [
        "def tokenize_function(example):\n",
        "    start_prompt = 'Summarize this dialogue.\\n\\n'\n",
        "    end_prompt = '\\n\\nSummary:'\n",
        "    prompt = [start_prompt + dialogue + end_prompt for dialogue in example[\"dialogue\"]]\n",
        "    example['input_ids'] = tokenizer_flan(prompt, padding=\"max_length\", truncation=True, return_tensors=\"pt\").input_ids\n",
        "    example['labels'] = tokenizer_flan(example[\"summary\"], padding=\"max_length\", truncation=True, return_tensors=\"pt\").input_ids\n",
        "    example['labels'] = [\n",
        "        [(l if l != tokenizer_flan.pad_token_id else -100) for l in label] for label in example['labels']\n",
        "    ] # ignore padded tokens\n",
        "\n",
        "    return example\n",
        "\n",
        "tokenized_datasets = dataset.map(tokenize_function, batched=True)\n",
        "tokenized_datasets = tokenized_datasets.remove_columns(['id', 'topic', 'dialogue', 'summary'])\n",
        "# tokenized_datasets = tokenized_datasets.filter(lambda example, index: index % 100 == 0, with_indices=True)"
      ],
      "metadata": {
        "id": "XE7HDHbkNNkF"
      },
      "execution_count": null,
      "outputs": []
    },
    {
      "cell_type": "code",
      "source": [
        "tokenized_datasets"
      ],
      "metadata": {
        "id": "uteaMCdpteuM"
      },
      "execution_count": null,
      "outputs": []
    },
    {
      "cell_type": "markdown",
      "source": [
        "Now that the data is in place, we need to define how we want to train our model. This is very similar to what we did a couple of classes ago, when we were fine-tuning BERT. As a matter of fact, all fine-tuning through HuggingFace happens with the same classes, which provide useful abstractions to define our training scheme. Some small adjustments may be required for specific tasks, but the overall logic and structure of the code will be the same.\n",
        "\n",
        "Alright, let's define our training protocol, and initialize a  `Seq2SeqTrainer`, which is just a special instance of a `Trainer` adapted to sequence-to-sequence (or, as we called them in the lecture, text-to-text) tasks."
      ],
      "metadata": {
        "id": "Hpbft-iUtd8t"
      }
    },
    {
      "cell_type": "code",
      "source": [
        "L_RATE = 1e-4\n",
        "BATCH_SIZE = 8\n",
        "WEIGHT_DECAY = 0.01\n",
        "NUM_EPOCHS = 1\n",
        "\n",
        "# Set up training arguments\n",
        "training_args = Seq2SeqTrainingArguments(\n",
        "   output_dir=\"results\",\n",
        "   learning_rate=L_RATE,\n",
        "   per_device_train_batch_size=BATCH_SIZE,\n",
        "   weight_decay=WEIGHT_DECAY,\n",
        "   num_train_epochs=NUM_EPOCHS,\n",
        "   max_steps=100,\n",
        "   predict_with_generate=True,\n",
        "   push_to_hub=False\n",
        ")\n",
        "\n",
        "\n",
        "trainer = Seq2SeqTrainer(\n",
        "   model=model_flan,\n",
        "   args=training_args,\n",
        "   train_dataset=tokenized_datasets[\"train\"],\n",
        "   eval_dataset=tokenized_datasets[\"test\"],\n",
        "   tokenizer=tokenizer_flan\n",
        ")"
      ],
      "metadata": {
        "id": "aBvBcBZpnhvz"
      },
      "execution_count": null,
      "outputs": []
    },
    {
      "cell_type": "markdown",
      "source": [
        "Now we are ready to train! Let's train the model, then save it and reload it."
      ],
      "metadata": {
        "id": "VfS6vm8suDur"
      }
    },
    {
      "cell_type": "code",
      "source": [
        "trainer.train()"
      ],
      "metadata": {
        "id": "2c3343EQp-NY"
      },
      "execution_count": null,
      "outputs": []
    },
    {
      "cell_type": "code",
      "source": [
        "trainer.save_model(\"my_model\") # let's save our trained model"
      ],
      "metadata": {
        "id": "tAlsiFMjgTEi"
      },
      "execution_count": null,
      "outputs": []
    },
    {
      "cell_type": "code",
      "source": [
        "instruct_model = AutoModelForSeq2SeqLM.from_pretrained(\"my_model\").cuda()"
      ],
      "metadata": {
        "id": "X8twkW1kcf1M"
      },
      "execution_count": null,
      "outputs": []
    },
    {
      "cell_type": "markdown",
      "source": [
        "Finally, let's qualitatively inspect the outputs or our model.\n",
        "**Task**\n",
        "- Has our model improved from its baseline performance?\n",
        "- Do you still see room for improvement?\n",
        "- How do you think better performance could be achieved?"
      ],
      "metadata": {
        "id": "_qTC5YzNuI5q"
      }
    },
    {
      "cell_type": "code",
      "source": [
        "for i, index in enumerate([50]):\n",
        "    dialogue = dataset['test'][index]['dialogue']\n",
        "    summary = dataset['test'][index]['summary']\n",
        "\n",
        "    start_prompt = 'Summarize this dialogue' # 'Summarize the following conversation.\\n\\n' # Summarize this dialogue.\\n\\n\n",
        "    end_prompt = 'Summary:' #  ''\n",
        "    prompt = start_prompt + dialogue + end_prompt\n",
        "\n",
        "    inputs = tokenizer_flan(prompt, return_tensors='pt')\n",
        "    output = tokenizer_flan.decode(\n",
        "        instruct_model.generate(\n",
        "            inputs[\"input_ids\"].cuda(),\n",
        "            max_new_tokens=50,\n",
        "        )[0],\n",
        "        skip_special_tokens=True\n",
        "    )\n",
        "\n",
        "    print(f'Input:\\n{dialogue}')\n",
        "    print(f'Human Summary:\\n{summary}')\n",
        "    print(f'Model Summary:\\n{output}\\n')"
      ],
      "metadata": {
        "id": "ZPc_QgrzPlFI"
      },
      "execution_count": null,
      "outputs": []
    },
    {
      "cell_type": "markdown",
      "source": [
        "## Final comments\n",
        "Today, we have looked into a few additional aspects of NLG:\n",
        "- **How to access very large models through `Petals`**. These large models often provide pretty good zero-shot performance, but it is not feasible to run them locally, and fine-tuning on local resources is pretty much impossible. Petals makes it possible to use them for inference, and to also perform some lightweight fine-tuning. Check out the documentation for some examples including fine-tuning of StableBeluga: https://github.com/bigscience-workshop/petals\n",
        "- **One- and few-shot inference**: With smaller and more manageable models, you can sometimes achieve good performance with good prompting and in-context learning. This can happen, for example, if the model has been trained on similar tasks, and it just requires some nudging to adapt its behavior to a new task/data;\n",
        "- **Instruction fine-tuning**: If in-context learning is not enough, you can fine-tune your model. Note that here we have fine-tuned a relatively small model, and scaling to larger models can become prohibitively resource-intensive.\n",
        "\n",
        "Resource limitations are a serious concern when thinking of fine-tuning LLMs. But the development of methods that make it possible to efficiently fine-tune LLMs on reasonably-sized infrastructure is a very active area of research!\n",
        "\n",
        "In our last lecture of the course, I will mention a few methods that can help reduce the number of parameters we train in an efficient way, and in ways that do not significantly reduce performance (and that can easily be implemented through existing libraries). This class of methods is called PeFT (parameter-efficient fine-tuning), and it includes methods like **quantization**, **LoRA**, and **prompt tuning**.\n",
        "\n",
        "If you are curious about these methods, `Petals` notebook implements training with LoRA + quantization (QLoRa). You can also take a look at HuggingFace's PEFT library: https://github.com/huggingface/peft\n",
        "\n",
        "Finally, if you really liked the intuition behind RLHF, you check out what is already available in the open-source ecosystem (e.g., https://github.com/CarperAI/trlx). This is a new, exciting, and fast-growing areas."
      ],
      "metadata": {
        "id": "vY9ggYjUNKlO"
      }
    },
    {
      "cell_type": "code",
      "source": [],
      "metadata": {
        "id": "B4oTHzTwRGyw"
      },
      "execution_count": null,
      "outputs": []
    }
  ],
  "metadata": {
    "accelerator": "GPU",
    "colab": {
      "provenance": [],
      "include_colab_link": true
    },
    "gpuClass": "standard",
    "kernelspec": {
      "display_name": "Python 3",
      "name": "python3"
    },
    "language_info": {
      "name": "python"
    }
  },
  "nbformat": 4,
  "nbformat_minor": 0
}